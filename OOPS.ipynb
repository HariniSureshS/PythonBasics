{
 "cells": [
  {
   "cell_type": "code",
   "execution_count": 10,
   "metadata": {},
   "outputs": [],
   "source": [
    "class Climber: \n",
    "  \n",
    "    # default constructor \n",
    "    def __init__(self,name): \n",
    "        self.climb = \"MyCaptain\"\n",
    "        self.name = name\n",
    "  \n",
    "    # a method for printing data members \n",
    "    def print_climber(self): \n",
    "        print(self.climb) \n",
    "        \n",
    "    def print_data(self):\n",
    "        print(\"Hi\" + self.name)\n",
    "  "
   ]
  },
  {
   "cell_type": "code",
   "execution_count": 11,
   "metadata": {},
   "outputs": [
    {
     "name": "stdout",
     "output_type": "stream",
     "text": [
      "MyCaptain\n",
      "HiHarini\n"
     ]
    }
   ],
   "source": [
    "obj1 = Climber(\"Harini\")\n",
    "obj1.print_climber()\n",
    "obj1.print_data()"
   ]
  },
  {
   "cell_type": "code",
   "execution_count": 22,
   "metadata": {},
   "outputs": [
    {
     "ename": "TypeError",
     "evalue": "subtract() takes 0 positional arguments but 1 was given",
     "output_type": "error",
     "traceback": [
      "\u001b[0;31m---------------------------------------------------------------------------\u001b[0m",
      "\u001b[0;31mTypeError\u001b[0m                                 Traceback (most recent call last)",
      "\u001b[0;32m<ipython-input-22-0c734c2a5785>\u001b[0m in \u001b[0;36m<module>\u001b[0;34m\u001b[0m\n\u001b[1;32m     27\u001b[0m \u001b[0;34m\u001b[0m\u001b[0m\n\u001b[1;32m     28\u001b[0m \u001b[0;31m# perform Addition\u001b[0m\u001b[0;34m\u001b[0m\u001b[0;34m\u001b[0m\u001b[0;34m\u001b[0m\u001b[0m\n\u001b[0;32m---> 29\u001b[0;31m \u001b[0mobj1\u001b[0m\u001b[0;34m.\u001b[0m\u001b[0msubtract\u001b[0m\u001b[0;34m(\u001b[0m\u001b[0;34m)\u001b[0m\u001b[0;34m\u001b[0m\u001b[0;34m\u001b[0m\u001b[0m\n\u001b[0m\u001b[1;32m     30\u001b[0m \u001b[0;34m\u001b[0m\u001b[0m\n\u001b[1;32m     31\u001b[0m \u001b[0;31m# display result\u001b[0m\u001b[0;34m\u001b[0m\u001b[0;34m\u001b[0m\u001b[0;34m\u001b[0m\u001b[0m\n",
      "\u001b[0;31mTypeError\u001b[0m: subtract() takes 0 positional arguments but 1 was given"
     ]
    }
   ],
   "source": [
    "class Addition: \n",
    "    first = 0\n",
    "    second = 0\n",
    "    answer1 = 0\n",
    "    answer2 = 0\n",
    "      \n",
    "    # parameterized constructor \n",
    "    def __init__(self, f, s): \n",
    "        first = f \n",
    "        second = s \n",
    "      \n",
    "    def display(): \n",
    "        print(\"First number = \" + str(self.first)) \n",
    "        print(\"Second number = \" + str(self.second)) \n",
    "        print(\"Subtraction of two numbers = \" + str(answer2)) \n",
    "  \n",
    "    def calculate(): \n",
    "        answer1 = first + second \n",
    "        \n",
    "    def subtract(self):\n",
    "        answer2 = self.first - self.second\n",
    "  \n",
    "\n",
    "\n",
    "# this will invoke parameterized constructor \n",
    "obj1 = Addition(1000,2000) \n",
    "  \n",
    "# perform Addition \n",
    "obj1.subtract() \n",
    "  \n",
    "# display result \n",
    "obj1.display() \n"
   ]
  },
  {
   "cell_type": "code",
   "execution_count": 1,
   "metadata": {},
   "outputs": [
    {
     "ename": "SyntaxError",
     "evalue": "invalid syntax (<ipython-input-1-288fffe28c5f>, line 8)",
     "output_type": "error",
     "traceback": [
      "\u001b[0;36m  File \u001b[0;32m\"<ipython-input-1-288fffe28c5f>\"\u001b[0;36m, line \u001b[0;32m8\u001b[0m\n\u001b[0;31m    n==1?no. --> 7*recur_factorial(6)\u001b[0m\n\u001b[0m        ^\u001b[0m\n\u001b[0;31mSyntaxError\u001b[0m\u001b[0;31m:\u001b[0m invalid syntax\n"
     ]
    }
   ],
   "source": [
    "def recur_factorial(n):\n",
    "   if n == 1:\n",
    "       return n\n",
    "   else:\n",
    "       return n*recur_factorial(n-1)\n",
    "\n",
    "n=7\n",
    "n==1?no. --> 7*recur_factorial(6)\n",
    "n==1?no. --> 7*6*recur_factorial(5)\n",
    "\n",
    "...\n",
    "n==1yes. --> 7*6*5*4*3*2*1\n",
    "    \n",
    "num = 7\n",
    "\n",
    "# check if the number is negative\n",
    "if num < 0:\n",
    "   print(\"Sorry, factorial does not exist for negative numbers\")\n",
    "elif num == 0:\n",
    "   print(\"The factorial of 0 is 1\")\n",
    "else:\n",
    "   print(\"The factorial of\", num, \"is\", recur_factorial(num))\n",
    "\n",
    "Fibonacci series:\n",
    "    0\n",
    "    1\n",
    "    1\n",
    "    2\n",
    "    3\n",
    "    5\n",
    "    \n",
    "def fibonnaci(n):\n",
    "    if n<=1:\n",
    "        return 1\n",
    "    else:\n",
    "        return fibonacci(n-1) + fibonacci (n-2)\n",
    "    \n",
    "fib(3)\n",
    "\n",
    "fib(2) + fib (1)\n",
    "fib(1) + fib(0) + 1\n",
    "1+1+1 =3 \n",
    "\n",
    "    Recursive functions:\n",
    "Base function\n",
    "    if n==1:\n",
    "        return 0;\n",
    "    if n==2\n",
    "        return 1;\n",
    "    else:\n",
    "        return fib(n-1) + fib(n-2)\n",
    "\n",
    "    fib(5)\n",
    "    fib(4) + fib(3)\n",
    "    fib(3)+fib(2)+fib(2)+fib(1)\n",
    "    fib(2)+fib(1)+1+1+0\n",
    "    1+0+1+1+0"
   ]
  },
  {
   "cell_type": "code",
   "execution_count": 5,
   "metadata": {},
   "outputs": [],
   "source": [
    "class Dog:\n",
    "    species = \"Canis familiaris\"\n",
    "    def __init__(self, name, age):\n",
    "        self.name = name\n",
    "        self.age = age"
   ]
  },
  {
   "cell_type": "code",
   "execution_count": 6,
   "metadata": {},
   "outputs": [
    {
     "data": {
      "text/plain": [
       "<__main__.Dog at 0x106560190>"
      ]
     },
     "execution_count": 6,
     "metadata": {},
     "output_type": "execute_result"
    }
   ],
   "source": [
    "Dog(\"ju\",4)"
   ]
  },
  {
   "cell_type": "code",
   "execution_count": 7,
   "metadata": {},
   "outputs": [],
   "source": [
    "d1 = Dog(\"ju\",4)"
   ]
  },
  {
   "cell_type": "code",
   "execution_count": 9,
   "metadata": {},
   "outputs": [
    {
     "data": {
      "text/plain": [
       "'ju'"
      ]
     },
     "execution_count": 9,
     "metadata": {},
     "output_type": "execute_result"
    }
   ],
   "source": [
    "d1.name"
   ]
  },
  {
   "cell_type": "code",
   "execution_count": null,
   "metadata": {},
   "outputs": [],
   "source": []
  }
 ],
 "metadata": {
  "kernelspec": {
   "display_name": "Python 3",
   "language": "python",
   "name": "python3"
  },
  "language_info": {
   "codemirror_mode": {
    "name": "ipython",
    "version": 3
   },
   "file_extension": ".py",
   "mimetype": "text/x-python",
   "name": "python",
   "nbconvert_exporter": "python",
   "pygments_lexer": "ipython3",
   "version": "3.7.7"
  }
 },
 "nbformat": 4,
 "nbformat_minor": 4
}
